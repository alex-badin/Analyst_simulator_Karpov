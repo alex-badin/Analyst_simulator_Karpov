{
 "cells": [
  {
   "cell_type": "code",
   "execution_count": 4,
   "metadata": {},
   "outputs": [],
   "source": [
    "import hashlib\n",
    "import pandahouse\n",
    "import pandas as pd\n",
    "import swifter\n",
    "import seaborn as sns\n",
    "import matplotlib.pyplot as plt\n",
    "from scipy import stats\n",
    "import random\n",
    "import numpy as np"
   ]
  },
  {
   "cell_type": "markdown",
   "metadata": {},
   "source": [
    "## Exercise 1 (AA_test p-value)"
   ]
  },
  {
   "cell_type": "code",
   "execution_count": 5,
   "metadata": {},
   "outputs": [],
   "source": [
    "connection = {\n",
    "    'host': 'https://clickhouse.lab.karpov.courses',\n",
    "    'password': 'dpo_python_2020',\n",
    "    'user': 'student',\n",
    "    'database': 'simulator'\n",
    "}\n",
    "\n",
    "q = \"\"\"\n",
    "SELECT distinct user_id\n",
    "FROM {db}.feed_actions \n",
    "WHERE toDate(time) >= '2021-11-15' and toDate(time) <= '2021-11-21' \n",
    "\"\"\""
   ]
  },
  {
   "cell_type": "code",
   "execution_count": 6,
   "metadata": {},
   "outputs": [],
   "source": [
    "q_ctr = '''SELECT user_id, exp_group, countIf(action='like') likes, countIf(action='view') views, countIf(action='like')/countIf(action='view') ctr\n",
    "from simulator_20220520.feed_actions \n",
    "group by user_id, exp_group\n",
    "having toDate(time)>='2022-04-17' and toDate(time)<='2022-04-23' \n",
    "'''"
   ]
  },
  {
   "cell_type": "code",
   "execution_count": 7,
   "metadata": {},
   "outputs": [],
   "source": [
    "df_ctr = pandahouse.read_clickhouse(query=q_ctr, connection=connection)"
   ]
  },
  {
   "cell_type": "code",
   "execution_count": 8,
   "metadata": {},
   "outputs": [
    {
     "data": {
      "text/html": [
       "<div>\n",
       "<style scoped>\n",
       "    .dataframe tbody tr th:only-of-type {\n",
       "        vertical-align: middle;\n",
       "    }\n",
       "\n",
       "    .dataframe tbody tr th {\n",
       "        vertical-align: top;\n",
       "    }\n",
       "\n",
       "    .dataframe thead th {\n",
       "        text-align: right;\n",
       "    }\n",
       "</style>\n",
       "<table border=\"1\" class=\"dataframe\">\n",
       "  <thead>\n",
       "    <tr style=\"text-align: right;\">\n",
       "      <th></th>\n",
       "      <th>count</th>\n",
       "      <th>mean</th>\n",
       "      <th>std</th>\n",
       "      <th>min</th>\n",
       "      <th>25%</th>\n",
       "      <th>50%</th>\n",
       "      <th>75%</th>\n",
       "      <th>max</th>\n",
       "    </tr>\n",
       "    <tr>\n",
       "      <th>exp_group</th>\n",
       "      <th></th>\n",
       "      <th></th>\n",
       "      <th></th>\n",
       "      <th></th>\n",
       "      <th></th>\n",
       "      <th></th>\n",
       "      <th></th>\n",
       "      <th></th>\n",
       "    </tr>\n",
       "  </thead>\n",
       "  <tbody>\n",
       "    <tr>\n",
       "      <th>2</th>\n",
       "      <td>8480.0</td>\n",
       "      <td>0.218246</td>\n",
       "      <td>0.080643</td>\n",
       "      <td>0.0</td>\n",
       "      <td>0.164451</td>\n",
       "      <td>0.205882</td>\n",
       "      <td>0.260870</td>\n",
       "      <td>0.714286</td>\n",
       "    </tr>\n",
       "    <tr>\n",
       "      <th>3</th>\n",
       "      <td>8569.0</td>\n",
       "      <td>0.219161</td>\n",
       "      <td>0.080932</td>\n",
       "      <td>0.0</td>\n",
       "      <td>0.166667</td>\n",
       "      <td>0.206612</td>\n",
       "      <td>0.261538</td>\n",
       "      <td>0.714286</td>\n",
       "    </tr>\n",
       "  </tbody>\n",
       "</table>\n",
       "</div>"
      ],
      "text/plain": [
       "            count      mean       std  min       25%       50%       75%  \\\n",
       "exp_group                                                                  \n",
       "2          8480.0  0.218246  0.080643  0.0  0.164451  0.205882  0.260870   \n",
       "3          8569.0  0.219161  0.080932  0.0  0.166667  0.206612  0.261538   \n",
       "\n",
       "                max  \n",
       "exp_group            \n",
       "2          0.714286  \n",
       "3          0.714286  "
      ]
     },
     "execution_count": 8,
     "metadata": {},
     "output_type": "execute_result"
    }
   ],
   "source": [
    "# параметры распределений групп 2 и 3 очень близкие.\n",
    "df_ctr.groupby('exp_group')['ctr'].describe()[2:4]"
   ]
  },
  {
   "cell_type": "code",
   "execution_count": 11,
   "metadata": {},
   "outputs": [],
   "source": [
    "sns.set(rc={'figure.figsize':(10,5)})"
   ]
  },
  {
   "cell_type": "code",
   "execution_count": 12,
   "metadata": {},
   "outputs": [
    {
     "data": {
      "image/png": "[encoded data removed]",
      "text/plain": [
       "<Figure size 720x360 with 1 Axes>"
      ]
     },
     "metadata": {},
     "output_type": "display_data"
    }
   ],
   "source": [
    "# Проверяем распределение. Выбросы на 0,0 и 0,5. Лучше сгладить.\n",
    "# Сами распределние довольно похожи. \n",
    "sns.histplot(data = df_ctr[(df_ctr['exp_group']==2) | (df_ctr['exp_group']==3)], x='ctr', palette=['r','b'], hue='exp_group');"
   ]
  },
  {
   "cell_type": "code",
   "execution_count": 13,
   "metadata": {},
   "outputs": [
    {
     "data": {
      "text/plain": [
       "(36, 0, 29, 0)"
      ]
     },
     "execution_count": 13,
     "metadata": {},
     "output_type": "execute_result"
    }
   ],
   "source": [
    "# количество of ctr = 0 or 1\n",
    "df_ctr_2 = df_ctr[df_ctr['exp_group']==2]\n",
    "df_ctr_3 = df_ctr[df_ctr['exp_group']==3]\n",
    "(df_ctr_2.ctr==0).sum(), (df_ctr_2.ctr==1).sum(), (df_ctr_3.ctr==0).sum(), (df_ctr_3.ctr==1).sum()"
   ]
  },
  {
   "cell_type": "code",
   "execution_count": 15,
   "metadata": {},
   "outputs": [],
   "source": [
    "# делаем итерации выборок из множеств групп 2 и 3 и считаем p-value на каждую выборку\n",
    "iter = 10**5 # сделаем на порядок побольше чем указано в задании\n",
    "sample_size = 500\n",
    "\n",
    "pvalues=[]\n",
    "for i in range(0, iter):\n",
    "    _, pvalue = stats.ttest_ind(df_ctr_2['ctr'].sample(sample_size, replace=True),\n",
    "                                df_ctr_3['ctr'].sample(sample_size, replace=True),\n",
    "                                equal_var=False)\n",
    "    pvalues.append(pvalue)"
   ]
  },
  {
   "cell_type": "code",
   "execution_count": 16,
   "metadata": {},
   "outputs": [
    {
     "data": {
      "text/plain": [
       "<AxesSubplot:ylabel='Count'>"
      ]
     },
     "execution_count": 16,
     "metadata": {},
     "output_type": "execute_result"
    },
    {
     "data": {
      "image/png": "[encoded data removed]",
      "text/plain": [
       "<Figure size 720x360 with 1 Axes>"
      ]
     },
     "metadata": {},
     "output_type": "display_data"
    }
   ],
   "source": [
    "# распредеоение довольно равномерное, но есть всплеск у нуля.\n",
    "sns.histplot(pvalues, bins=100)"
   ]
  },
  {
   "cell_type": "code",
   "execution_count": 17,
   "metadata": {},
   "outputs": [
    {
     "data": {
      "text/plain": [
       "0.05378"
      ]
     },
     "execution_count": 17,
     "metadata": {},
     "output_type": "execute_result"
    }
   ],
   "source": [
    "# считаем долю p-values, которые меньше или равны 0.5. \n",
    "(pd.Series(pvalues)<=0.05).sum()/(pd.Series(pvalues)).count()"
   ]
  },
  {
   "cell_type": "markdown",
   "metadata": {},
   "source": [
    "**Вывод 1:** \n",
    "доля p-values, равных или меньше 0,5, составляет чуть больше 5%. Само распределение p-values равномерное. Хотя некоторый выступ в районе 0 все-так есть. \n",
    "\n",
    "Из чего можно сделать вывод, что выборки довольно одинаковые. Система сплитования в целом работает."
   ]
  },
  {
   "cell_type": "markdown",
   "metadata": {},
   "source": [
    "### smoothed ctr"
   ]
  },
  {
   "cell_type": "code",
   "execution_count": 18,
   "metadata": {},
   "outputs": [],
   "source": [
    "def smoothed_ctr(like, view, general_ctr, alpha):\n",
    "    return (like + alpha*general_ctr) / (view + alpha)"
   ]
  },
  {
   "cell_type": "code",
   "execution_count": 19,
   "metadata": {},
   "outputs": [],
   "source": [
    "# считаем глобальные ctr\n",
    "global_ctr2 = df_ctr_2.likes.sum() / df_ctr_2.views.sum()\n",
    "global_ctr3 = df_ctr_3.likes.sum() / df_ctr_3.views.sum()"
   ]
  },
  {
   "cell_type": "code",
   "execution_count": 20,
   "metadata": {},
   "outputs": [
    {
     "name": "stderr",
     "output_type": "stream",
     "text": [
      "/var/folders/00/jtb7c8xn51902fgjqt4qh5h80000gp/T/ipykernel_46090/120937281.py:2: SettingWithCopyWarning: \n",
      "A value is trying to be set on a copy of a slice from a DataFrame.\n",
      "Try using .loc[row_indexer,col_indexer] = value instead\n",
      "\n",
      "See the caveats in the documentation: https://pandas.pydata.org/pandas-docs/stable/user_guide/indexing.html#returning-a-view-versus-a-copy\n",
      "  df_ctr_2['smoothed_ctr'] = df_ctr_2.apply(\n",
      "/var/folders/00/jtb7c8xn51902fgjqt4qh5h80000gp/T/ipykernel_46090/120937281.py:5: SettingWithCopyWarning: \n",
      "A value is trying to be set on a copy of a slice from a DataFrame.\n",
      "Try using .loc[row_indexer,col_indexer] = value instead\n",
      "\n",
      "See the caveats in the documentation: https://pandas.pydata.org/pandas-docs/stable/user_guide/indexing.html#returning-a-view-versus-a-copy\n",
      "  df_ctr_3['smoothed_ctr'] = df_ctr_3.apply(\n"
     ]
    }
   ],
   "source": [
    "# сглаженные ctr\n",
    "df_ctr_2['smoothed_ctr'] = df_ctr_2.apply(\n",
    "    lambda x: smoothed_ctr(x['likes'], x['views'], global_ctr2, 5), axis=1)\n",
    "\n",
    "df_ctr_3['smoothed_ctr'] = df_ctr_3.apply(\n",
    "    lambda x: smoothed_ctr(x['likes'], x['views'], global_ctr3, 5), axis=1)\n"
   ]
  },
  {
   "cell_type": "code",
   "execution_count": 21,
   "metadata": {},
   "outputs": [
    {
     "data": {
      "text/plain": [
       "<AxesSubplot:xlabel='smoothed_ctr', ylabel='Count'>"
      ]
     },
     "execution_count": 21,
     "metadata": {},
     "output_type": "execute_result"
    },
    {
     "data": {
      "image/png": "[encoded data removed]",
      "text/plain": [
       "<Figure size 720x360 with 1 Axes>"
      ]
     },
     "metadata": {},
     "output_type": "display_data"
    }
   ],
   "source": [
    "sns.histplot(df_ctr_2.smoothed_ctr, color='r')\n",
    "sns.histplot(df_ctr_3.smoothed_ctr, color='b')"
   ]
  },
  {
   "cell_type": "code",
   "execution_count": 22,
   "metadata": {},
   "outputs": [],
   "source": [
    "# делаем итерации выборок из множеств групп 2 и 3 и считаем p-value на каждую выборку\n",
    "iter = 10**5 # сделаем на порядок побольше чем указано в задании\n",
    "sample_size = 500\n",
    "\n",
    "pvalues=[]\n",
    "for i in range(0, iter):\n",
    "    _, pvalue = stats.ttest_ind(df_ctr_2.smoothed_ctr.sample(sample_size, replace=True),\n",
    "                                df_ctr_3.smoothed_ctr.sample(sample_size, replace=True),\n",
    "                                equal_var=False)\n",
    "    pvalues.append(pvalue)"
   ]
  },
  {
   "cell_type": "code",
   "execution_count": 23,
   "metadata": {},
   "outputs": [
    {
     "data": {
      "text/plain": [
       "<AxesSubplot:ylabel='Count'>"
      ]
     },
     "execution_count": 23,
     "metadata": {},
     "output_type": "execute_result"
    },
    {
     "data": {
      "image/png": "[encoded data removed]",
      "text/plain": [
       "<Figure size 720x360 with 1 Axes>"
      ]
     },
     "metadata": {},
     "output_type": "display_data"
    }
   ],
   "source": [
    "# распредеоение кажется стало более равномерным (нет такого всплекска у нуля)\n",
    "sns.histplot(pvalues, bins=100)"
   ]
  },
  {
   "cell_type": "code",
   "execution_count": 24,
   "metadata": {},
   "outputs": [
    {
     "name": "stdout",
     "output_type": "stream",
     "text": [
      "Доля p-values меньше или равно 0,05 = 0.05234\n"
     ]
    }
   ],
   "source": [
    "# считаем долю p-values, которые меньше или равны 0.5. \n",
    "share_05pvalue = (pd.Series(pvalues)<=0.05).sum()/(pd.Series(pvalues)).count()\n",
    "print(f'Доля p-values меньше или равно 0,05 = {share_05pvalue}')"
   ]
  },
  {
   "cell_type": "markdown",
   "metadata": {},
   "source": [
    "**Вывод 2:** \n",
    "после сглаживания доля p-values <=0.05 стала ближе к 5%. То есть выборки стали вроде как более одинаковые. \n",
    "\n",
    "Но помним, что теоретически не доказано , что сглаживание можно использовать."
   ]
  }
 ],
 "metadata": {
  "kernelspec": {
   "display_name": "Python 3.9.7 ('base')",
   "language": "python",
   "name": "python3"
  },
  "language_info": {
   "codemirror_mode": {
    "name": "ipython",
    "version": 3
   },
   "file_extension": ".py",
   "mimetype": "text/x-python",
   "name": "python",
   "nbconvert_exporter": "python",
   "pygments_lexer": "ipython3",
   "version": "3.9.7"
  },
  "orig_nbformat": 4,
  "vscode": {
   "interpreter": {
    "hash": "f04e9d9503fc02916e732e0ca15418c91d0dcb99725da04f8a65fab59f1f0d78"
   }
  }
 },
 "nbformat": 4,
 "nbformat_minor": 2
}

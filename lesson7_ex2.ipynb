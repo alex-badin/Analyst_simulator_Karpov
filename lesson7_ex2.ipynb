{
 "cells": [
  {
   "cell_type": "code",
   "execution_count": 78,
   "metadata": {},
   "outputs": [],
   "source": [
    "import hashlib\n",
    "import pandahouse\n",
    "import pandas as pd\n",
    "import swifter\n",
    "import seaborn as sns\n",
    "import matplotlib.pyplot as plt\n",
    "from scipy import stats\n",
    "import random\n",
    "import numpy as np"
   ]
  },
  {
   "cell_type": "code",
   "execution_count": 79,
   "metadata": {},
   "outputs": [],
   "source": [
    "sns.set(rc={'figure.figsize':(10,5)})"
   ]
  },
  {
   "cell_type": "markdown",
   "metadata": {},
   "source": [
    "## Exercise 2 (A/B testing)"
   ]
  },
  {
   "cell_type": "code",
   "execution_count": 80,
   "metadata": {},
   "outputs": [],
   "source": [
    "connection = {\n",
    "    'host': 'https://clickhouse.lab.karpov.courses',\n",
    "    'password': 'dpo_python_2020',\n",
    "    'user': 'student',\n",
    "    'database': 'simulator'\n",
    "}"
   ]
  },
  {
   "cell_type": "code",
   "execution_count": 81,
   "metadata": {},
   "outputs": [],
   "source": [
    "q_ctr = '''SELECT user_id, exp_group, countIf(action='like') likes, countIf(action='view') views, countIf(action='like')/countIf(action='view') ctr\n",
    "from simulator_20220520.feed_actions \n",
    "group by user_id, exp_group\n",
    "having toDate(time)>='2022-04-24' and toDate(time)<='2022-04-30' and exp_group in (1,2) \n",
    "'''"
   ]
  },
  {
   "cell_type": "code",
   "execution_count": 82,
   "metadata": {},
   "outputs": [],
   "source": [
    "df_ctr = pandahouse.read_clickhouse(query=q_ctr, connection=connection)"
   ]
  },
  {
   "cell_type": "code",
   "execution_count": 83,
   "metadata": {},
   "outputs": [],
   "source": [
    "df_ctr['exp_group'].replace(1,'control', inplace=True)\n",
    "df_ctr['exp_group'].replace(2,'test', inplace=True)"
   ]
  },
  {
   "cell_type": "code",
   "execution_count": 84,
   "metadata": {},
   "outputs": [
    {
     "data": {
      "text/html": [
       "<div>\n",
       "<style scoped>\n",
       "    .dataframe tbody tr th:only-of-type {\n",
       "        vertical-align: middle;\n",
       "    }\n",
       "\n",
       "    .dataframe tbody tr th {\n",
       "        vertical-align: top;\n",
       "    }\n",
       "\n",
       "    .dataframe thead th {\n",
       "        text-align: right;\n",
       "    }\n",
       "</style>\n",
       "<table border=\"1\" class=\"dataframe\">\n",
       "  <thead>\n",
       "    <tr style=\"text-align: right;\">\n",
       "      <th></th>\n",
       "      <th>count</th>\n",
       "      <th>mean</th>\n",
       "      <th>std</th>\n",
       "      <th>min</th>\n",
       "      <th>25%</th>\n",
       "      <th>50%</th>\n",
       "      <th>75%</th>\n",
       "      <th>max</th>\n",
       "    </tr>\n",
       "    <tr>\n",
       "      <th>exp_group</th>\n",
       "      <th></th>\n",
       "      <th></th>\n",
       "      <th></th>\n",
       "      <th></th>\n",
       "      <th></th>\n",
       "      <th></th>\n",
       "      <th></th>\n",
       "      <th></th>\n",
       "    </tr>\n",
       "  </thead>\n",
       "  <tbody>\n",
       "    <tr>\n",
       "      <th>control</th>\n",
       "      <td>10079.0</td>\n",
       "      <td>0.215605</td>\n",
       "      <td>0.08416</td>\n",
       "      <td>0.0</td>\n",
       "      <td>0.160097</td>\n",
       "      <td>0.203125</td>\n",
       "      <td>0.257654</td>\n",
       "      <td>0.722222</td>\n",
       "    </tr>\n",
       "    <tr>\n",
       "      <th>test</th>\n",
       "      <td>9952.0</td>\n",
       "      <td>0.214419</td>\n",
       "      <td>0.14418</td>\n",
       "      <td>0.0</td>\n",
       "      <td>0.095238</td>\n",
       "      <td>0.142857</td>\n",
       "      <td>0.325000</td>\n",
       "      <td>0.923077</td>\n",
       "    </tr>\n",
       "  </tbody>\n",
       "</table>\n",
       "</div>"
      ],
      "text/plain": [
       "             count      mean      std  min       25%       50%       75%  \\\n",
       "exp_group                                                                  \n",
       "control    10079.0  0.215605  0.08416  0.0  0.160097  0.203125  0.257654   \n",
       "test        9952.0  0.214419  0.14418  0.0  0.095238  0.142857  0.325000   \n",
       "\n",
       "                max  \n",
       "exp_group            \n",
       "control    0.722222  \n",
       "test       0.923077  "
      ]
     },
     "execution_count": 84,
     "metadata": {},
     "output_type": "execute_result"
    }
   ],
   "source": [
    "# проверяем базовые статистики по тестовой и контрольной группам. Средний ctr по группам очень похожее, для тестового чуть меньше (21,44% против 21,56%). \n",
    "# Однако разброс (станд откл-е) по тестовой выборке намного выше. Кроме того, видно, что крайние квартили по тестовой выборке также сильно отличаются от контрольной.\n",
    "(df_ctr.groupby('exp_group').ctr.describe())"
   ]
  },
  {
   "cell_type": "code",
   "execution_count": 85,
   "metadata": {},
   "outputs": [
    {
     "data": {
      "text/plain": [
       "<AxesSubplot:xlabel='ctr', ylabel='Count'>"
      ]
     },
     "execution_count": 85,
     "metadata": {},
     "output_type": "execute_result"
    },
    {
     "data": {
      "image/png": "[encoded data removed]",
      "text/plain": [
       "<Figure size 720x360 with 1 Axes>"
      ]
     },
     "metadata": {},
     "output_type": "display_data"
    }
   ],
   "source": [
    "# Гистограмма показывает что-то неожиданное. Для тестовой выборки есть 2 горба - в районе 10% и в районе 30%. Горб в районе 10% кажется больше (второй менее размазан).\n",
    "# Для контрольной как раньше - распределение похоже на нормальное с центром в районе 20%.\n",
    "# Похоже, что эксперимент дал полярные результаты - у кого-то ухудшил ключевую метрику, у кого-то наоборот увеличил. \n",
    "# Надо будет изучить эти группы (1 - у кого ухудшили и 2 - у кого улучшили) отдельно - по профилю (ос, пол-возраст и тд) и поведению (кол-во просмотров и тд).\n",
    "sns.histplot(data=df_ctr, x='ctr', hue='exp_group', palette=['b','r'])"
   ]
  },
  {
   "cell_type": "markdown",
   "metadata": {},
   "source": [
    "### т-тест Стьюдента"
   ]
  },
  {
   "cell_type": "code",
   "execution_count": 86,
   "metadata": {},
   "outputs": [
    {
     "data": {
      "text/plain": [
       "0.4780623130874935"
      ]
     },
     "execution_count": 86,
     "metadata": {},
     "output_type": "execute_result"
    }
   ],
   "source": [
    "# стандартный т-тест дает pvalue сильно больше 0.05, то есть выборки как бы одинаковые.\n",
    "_, pvalue = stats.ttest_ind(df_ctr[df_ctr['exp_group']=='test'].ctr, df_ctr[df_ctr['exp_group']=='control'].ctr,\n",
    "                            equal_var=False)\n",
    "pvalue"
   ]
  },
  {
   "cell_type": "markdown",
   "metadata": {},
   "source": [
    "### Пуассоновский бутстреп"
   ]
  },
  {
   "cell_type": "code",
   "execution_count": 87,
   "metadata": {},
   "outputs": [],
   "source": [
    "df_ctr_tst = df_ctr[df_ctr['exp_group']=='test']\n",
    "df_ctr_ctrl = df_ctr[df_ctr['exp_group']=='control']"
   ]
  },
  {
   "cell_type": "code",
   "execution_count": 88,
   "metadata": {},
   "outputs": [],
   "source": [
    "n_test = df_ctr_tst.shape[0]\n",
    "n_control = df_ctr_ctrl.shape[0]"
   ]
  },
  {
   "cell_type": "code",
   "execution_count": 89,
   "metadata": {},
   "outputs": [],
   "source": [
    "n_samples = 5000\n",
    "\n",
    "poisson_samples_tst = stats.poisson(1).rvs((n_samples, n_test))\n",
    "poisson_samples_ctrl = stats.poisson(1).rvs((n_samples, n_control))"
   ]
  },
  {
   "cell_type": "code",
   "execution_count": 90,
   "metadata": {},
   "outputs": [
    {
     "data": {
      "text/plain": [
       "<AxesSubplot:ylabel='Count'>"
      ]
     },
     "execution_count": 90,
     "metadata": {},
     "output_type": "execute_result"
    },
    {
     "data": {
      "image/png": "[encoded data removed]",
      "text/plain": [
       "<Figure size 720x720 with 2 Axes>"
      ]
     },
     "metadata": {},
     "output_type": "display_data"
    }
   ],
   "source": [
    "# проверяем разброс выборок - сколько раз выпадало каждое из значений\n",
    "fig, ax = plt.subplots(2, figsize=(10,10))\n",
    "sns.histplot(sum(poisson_samples_tst), ax=ax[0])\n",
    "sns.histplot(sum(poisson_samples_ctrl), ax=ax[1])"
   ]
  },
  {
   "cell_type": "code",
   "execution_count": 91,
   "metadata": {},
   "outputs": [],
   "source": [
    "# считаем глобальный ctr для каждой выборки. отдельно для тестовых и отдельно для контрольных.\n",
    "ctr_pois_tst = (poisson_samples_tst * df_ctr_tst.likes.to_numpy()).sum(axis=1) / (poisson_samples_tst * df_ctr_tst.views.to_numpy()).sum(axis=1)\n",
    "ctr_pois_ctrl = (poisson_samples_ctrl * df_ctr_ctrl.likes.to_numpy()).sum(axis=1) / (poisson_samples_ctrl * df_ctr_ctrl.views.to_numpy()).sum(axis=1)"
   ]
  },
  {
   "cell_type": "code",
   "execution_count": 92,
   "metadata": {},
   "outputs": [
    {
     "data": {
      "text/plain": [
       "<AxesSubplot:ylabel='Count'>"
      ]
     },
     "execution_count": 92,
     "metadata": {},
     "output_type": "execute_result"
    },
    {
     "data": {
      "image/png": "[encoded data removed]",
      "text/plain": [
       "<Figure size 720x360 with 1 Axes>"
      ]
     },
     "metadata": {},
     "output_type": "display_data"
    }
   ],
   "source": [
    "# Тестовые - красные, контрольные - синие. Разница проявилась в отличие от т-теста. \n",
    "# Однако тестовые значения ниже чем контрольные.\n",
    "sns.histplot(ctr_pois_tst, color='r')\n",
    "sns.histplot(ctr_pois_ctrl, color='b')"
   ]
  },
  {
   "cell_type": "code",
   "execution_count": 93,
   "metadata": {},
   "outputs": [
    {
     "data": {
      "text/plain": [
       "<AxesSubplot:ylabel='Count'>"
      ]
     },
     "execution_count": 93,
     "metadata": {},
     "output_type": "execute_result"
    },
    {
     "data": {
      "image/png": "[encoded data removed]",
      "text/plain": [
       "<Figure size 720x360 with 1 Axes>"
      ]
     },
     "metadata": {},
     "output_type": "display_data"
    }
   ],
   "source": [
    "# все распределение разностей теста и контроля (пуассоновским бутстрепом) находится в отрицальной зоне.\n",
    "# то есть тестовый ctr значимо меньше контрольного.\n",
    "sns.histplot(ctr_pois_tst - ctr_pois_ctrl)"
   ]
  },
  {
   "cell_type": "markdown",
   "metadata": {},
   "source": [
    "### Манна-Уитни"
   ]
  },
  {
   "cell_type": "code",
   "execution_count": 94,
   "metadata": {},
   "outputs": [
    {
     "data": {
      "text/plain": [
       "(6.0376484617779035e-56, 0.0)"
      ]
     },
     "execution_count": 94,
     "metadata": {},
     "output_type": "execute_result"
    }
   ],
   "source": [
    "# тест Манна-Уитни показывает p-value около нуля. То есть выборки разные.\n",
    "_, pvalue_mw = stats.mannwhitneyu(df_ctr_tst.ctr, df_ctr_ctrl.ctr)\n",
    "pvalue_mw, round(pvalue_mw,10)"
   ]
  },
  {
   "cell_type": "code",
   "execution_count": 95,
   "metadata": {},
   "outputs": [
    {
     "name": "stdout",
     "output_type": "stream",
     "text": [
      "В 43.42 % случаев test > control. Должно получиться около 50%\n"
     ]
    }
   ],
   "source": [
    "# сравним по случайным значениям из теста и контроля\n",
    "A_gt_B = 0\n",
    "n_samples = 10**5\n",
    "\n",
    "for _ in range(n_samples):\n",
    "    A_gt_B+= df_ctr_tst.ctr.sample().values[0] > df_ctr_ctrl.ctr.sample().values[0]\n",
    "    \n",
    "print('В', round((A_gt_B/n_samples)*100, 2), '% случаев test > control. Должно получиться около 50%')"
   ]
  },
  {
   "cell_type": "markdown",
   "metadata": {},
   "source": [
    "Нулевая гипотеза (ранги выборок одинаковые) отвергнута (и по pvalue, и по сравнению случайных значений). То есть распределения выборок разные. "
   ]
  },
  {
   "cell_type": "markdown",
   "metadata": {},
   "source": [
    "### Тесты на сглаженном ctr"
   ]
  },
  {
   "cell_type": "code",
   "execution_count": 96,
   "metadata": {},
   "outputs": [],
   "source": [
    "def smoothed_ctr(like, view, general_ctr, alpha):\n",
    "    return (like + alpha*general_ctr) / (view + alpha)"
   ]
  },
  {
   "cell_type": "code",
   "execution_count": 97,
   "metadata": {},
   "outputs": [],
   "source": [
    "# считаем глобальные ctr\n",
    "global_ctr_tst = df_ctr_tst.likes.sum() / df_ctr_tst.views.sum()\n",
    "global_ctr_ctrl = df_ctr_ctrl.likes.sum() / df_ctr_ctrl.views.sum()"
   ]
  },
  {
   "cell_type": "code",
   "execution_count": 98,
   "metadata": {},
   "outputs": [
    {
     "name": "stderr",
     "output_type": "stream",
     "text": [
      "/var/folders/00/jtb7c8xn51902fgjqt4qh5h80000gp/T/ipykernel_46300/3887212470.py:2: SettingWithCopyWarning: \n",
      "A value is trying to be set on a copy of a slice from a DataFrame.\n",
      "Try using .loc[row_indexer,col_indexer] = value instead\n",
      "\n",
      "See the caveats in the documentation: https://pandas.pydata.org/pandas-docs/stable/user_guide/indexing.html#returning-a-view-versus-a-copy\n",
      "  df_ctr_tst['smoothed_ctr'] = df_ctr_tst.apply(\n",
      "/var/folders/00/jtb7c8xn51902fgjqt4qh5h80000gp/T/ipykernel_46300/3887212470.py:5: SettingWithCopyWarning: \n",
      "A value is trying to be set on a copy of a slice from a DataFrame.\n",
      "Try using .loc[row_indexer,col_indexer] = value instead\n",
      "\n",
      "See the caveats in the documentation: https://pandas.pydata.org/pandas-docs/stable/user_guide/indexing.html#returning-a-view-versus-a-copy\n",
      "  df_ctr_ctrl['smoothed_ctr'] = df_ctr_ctrl.apply(\n"
     ]
    }
   ],
   "source": [
    "# сглаженные ctr\n",
    "df_ctr_tst['smoothed_ctr'] = df_ctr_tst.apply(\n",
    "    lambda x: smoothed_ctr(x['likes'], x['views'], global_ctr_tst, 5), axis=1)\n",
    "\n",
    "df_ctr_ctrl['smoothed_ctr'] = df_ctr_ctrl.apply(\n",
    "    lambda x: smoothed_ctr(x['likes'], x['views'], global_ctr_ctrl, 5), axis=1)"
   ]
  },
  {
   "cell_type": "code",
   "execution_count": 99,
   "metadata": {},
   "outputs": [
    {
     "data": {
      "text/html": [
       "<div>\n",
       "<style scoped>\n",
       "    .dataframe tbody tr th:only-of-type {\n",
       "        vertical-align: middle;\n",
       "    }\n",
       "\n",
       "    .dataframe tbody tr th {\n",
       "        vertical-align: top;\n",
       "    }\n",
       "\n",
       "    .dataframe thead th {\n",
       "        text-align: right;\n",
       "    }\n",
       "</style>\n",
       "<table border=\"1\" class=\"dataframe\">\n",
       "  <thead>\n",
       "    <tr style=\"text-align: right;\">\n",
       "      <th></th>\n",
       "      <th>control</th>\n",
       "      <th>test</th>\n",
       "    </tr>\n",
       "  </thead>\n",
       "  <tbody>\n",
       "    <tr>\n",
       "      <th>count</th>\n",
       "      <td>9952.000000</td>\n",
       "      <td>10079.000000</td>\n",
       "    </tr>\n",
       "    <tr>\n",
       "      <th>mean</th>\n",
       "      <td>0.210740</td>\n",
       "      <td>0.214025</td>\n",
       "    </tr>\n",
       "    <tr>\n",
       "      <th>std</th>\n",
       "      <td>0.124768</td>\n",
       "      <td>0.071368</td>\n",
       "    </tr>\n",
       "    <tr>\n",
       "      <th>min</th>\n",
       "      <td>0.030947</td>\n",
       "      <td>0.035867</td>\n",
       "    </tr>\n",
       "    <tr>\n",
       "      <th>25%</th>\n",
       "      <td>0.105125</td>\n",
       "      <td>0.164535</td>\n",
       "    </tr>\n",
       "    <tr>\n",
       "      <th>50%</th>\n",
       "      <td>0.147879</td>\n",
       "      <td>0.203480</td>\n",
       "    </tr>\n",
       "    <tr>\n",
       "      <th>75%</th>\n",
       "      <td>0.310896</td>\n",
       "      <td>0.251672</td>\n",
       "    </tr>\n",
       "    <tr>\n",
       "      <th>max</th>\n",
       "      <td>0.770631</td>\n",
       "      <td>0.623114</td>\n",
       "    </tr>\n",
       "  </tbody>\n",
       "</table>\n",
       "</div>"
      ],
      "text/plain": [
       "           control          test\n",
       "count  9952.000000  10079.000000\n",
       "mean      0.210740      0.214025\n",
       "std       0.124768      0.071368\n",
       "min       0.030947      0.035867\n",
       "25%       0.105125      0.164535\n",
       "50%       0.147879      0.203480\n",
       "75%       0.310896      0.251672\n",
       "max       0.770631      0.623114"
      ]
     },
     "execution_count": 99,
     "metadata": {},
     "output_type": "execute_result"
    }
   ],
   "source": [
    "# отличие по средним после сглаживания стало чуть больше (21,4% в контроле против 21,1%)\n",
    "pd.DataFrame(dict(control =df_ctr_tst.smoothed_ctr.describe(), test = df_ctr_ctrl.smoothed_ctr.describe()))"
   ]
  },
  {
   "cell_type": "code",
   "execution_count": 100,
   "metadata": {},
   "outputs": [
    {
     "data": {
      "image/png": "[encoded data removed]",
      "text/plain": [
       "<Figure size 720x360 with 1 Axes>"
      ]
     },
     "metadata": {},
     "output_type": "display_data"
    }
   ],
   "source": [
    "# распределения после сглаживания (красный - тест, синий - контроль). Общая картина распределений не поменялась.\n",
    "sns.histplot(df_ctr_tst.smoothed_ctr, color='r')\n",
    "sns.histplot(df_ctr_ctrl.smoothed_ctr, color='b');"
   ]
  },
  {
   "cell_type": "code",
   "execution_count": 101,
   "metadata": {},
   "outputs": [
    {
     "name": "stdout",
     "output_type": "stream",
     "text": [
      "P-value т-теста для сырого ctr = 0.4780623130874935, для сглаженного ctr = 0.0223769815558559\n"
     ]
    }
   ],
   "source": [
    "# на сглаженных данных т-тест прокрасился.\n",
    "_, pvalue = stats.ttest_ind(df_ctr_tst.ctr, df_ctr_ctrl.ctr, equal_var=False)\n",
    "_, pvalue_smoothed = stats.ttest_ind(df_ctr_tst.smoothed_ctr, df_ctr_ctrl.smoothed_ctr, equal_var=False)\n",
    "print(f'P-value т-теста для сырого ctr = {pvalue}, для сглаженного ctr = {pvalue_smoothed}')"
   ]
  },
  {
   "cell_type": "code",
   "execution_count": 102,
   "metadata": {},
   "outputs": [
    {
     "name": "stdout",
     "output_type": "stream",
     "text": [
      "P-value теста Манна-Уитни для сырого ctr = 6.0376484617779035e-56, для сглаженного ctr = 1.6163964114270227e-61\n"
     ]
    }
   ],
   "source": [
    "# Манн-Уитни и до этого прокрашивался. Стал еще меньше.\n",
    "_, pvalue_mw = stats.mannwhitneyu(df_ctr_tst.ctr, df_ctr_ctrl.ctr)\n",
    "_, pvalue_mw_sm = stats.mannwhitneyu(df_ctr_tst.smoothed_ctr, df_ctr_ctrl.smoothed_ctr)\n",
    "print(f'P-value теста Манна-Уитни для сырого ctr = {pvalue_mw}, для сглаженного ctr = {pvalue_mw_sm}')"
   ]
  },
  {
   "cell_type": "markdown",
   "metadata": {},
   "source": [
    "### Бакетное преобразование"
   ]
  },
  {
   "cell_type": "code",
   "execution_count": 103,
   "metadata": {},
   "outputs": [],
   "source": [
    "# функция для сплитования через хэширование. Делим на 100 групп (мета-юзеров).\n",
    "def ab_split(id, salt='exp_mess_1', n_groups=100):\n",
    "    test_id = str(id) + '-' + str(salt)\n",
    "    test_id_digest = hashlib.md5(test_id.encode('ascii')).hexdigest()\n",
    "    test_id_final_int = int(test_id_digest, 16)\n",
    "    return test_id_final_int % n_groups"
   ]
  },
  {
   "cell_type": "code",
   "execution_count": 104,
   "metadata": {},
   "outputs": [
    {
     "name": "stderr",
     "output_type": "stream",
     "text": [
      "/var/folders/00/jtb7c8xn51902fgjqt4qh5h80000gp/T/ipykernel_46300/1297774913.py:1: SettingWithCopyWarning: \n",
      "A value is trying to be set on a copy of a slice from a DataFrame.\n",
      "Try using .loc[row_indexer,col_indexer] = value instead\n",
      "\n",
      "See the caveats in the documentation: https://pandas.pydata.org/pandas-docs/stable/user_guide/indexing.html#returning-a-view-versus-a-copy\n",
      "  df_ctr_tst['backet'] = df_ctr_tst.user_id.apply(ab_split)\n",
      "/var/folders/00/jtb7c8xn51902fgjqt4qh5h80000gp/T/ipykernel_46300/1297774913.py:2: SettingWithCopyWarning: \n",
      "A value is trying to be set on a copy of a slice from a DataFrame.\n",
      "Try using .loc[row_indexer,col_indexer] = value instead\n",
      "\n",
      "See the caveats in the documentation: https://pandas.pydata.org/pandas-docs/stable/user_guide/indexing.html#returning-a-view-versus-a-copy\n",
      "  df_ctr_ctrl['backet'] = df_ctr_ctrl.user_id.apply(ab_split)\n"
     ]
    }
   ],
   "source": [
    "df_ctr_tst['backet'] = df_ctr_tst.user_id.apply(ab_split)\n",
    "df_ctr_ctrl['backet'] = df_ctr_ctrl.user_id.apply(ab_split)"
   ]
  },
  {
   "cell_type": "code",
   "execution_count": 105,
   "metadata": {},
   "outputs": [],
   "source": [
    "df_ctr_tst_backet = df_ctr_tst.groupby('backet').likes.sum() / df_ctr_tst.groupby('backet').views.sum()\n",
    "df_ctr_ctrl_backet = df_ctr_ctrl.groupby('backet').likes.sum() / df_ctr_ctrl.groupby('backet').views.sum()"
   ]
  },
  {
   "cell_type": "code",
   "execution_count": 106,
   "metadata": {},
   "outputs": [
    {
     "name": "stdout",
     "output_type": "stream",
     "text": [
      "P-value т-теста для сырого ctr = 0.4780623130874935, для сглаженного = 0.0223769815558559, для бакетного ctr = 5.4294865493877956e-08\n"
     ]
    }
   ],
   "source": [
    "# после бакетного преобразования т-тест стал еще более четким, чем после сглаживания\n",
    "_, pvalue = stats.ttest_ind(df_ctr_tst.ctr, df_ctr_ctrl.ctr, equal_var=False)\n",
    "_, pvalue_backet = stats.ttest_ind(df_ctr_tst_backet, df_ctr_ctrl_backet, equal_var=False)\n",
    "print(f'P-value т-теста для сырого ctr = {pvalue}, для сглаженного = {pvalue_smoothed}, для бакетного ctr = {pvalue_backet}')"
   ]
  },
  {
   "cell_type": "code",
   "execution_count": 107,
   "metadata": {},
   "outputs": [
    {
     "name": "stdout",
     "output_type": "stream",
     "text": [
      "P-value теста Манна-Уитни для сырого ctr = 6.0376484617779035e-56, для сглаженного ctr = 1.6163964114270227e-61, для бакетного ctr = 2.0110869513991762e-07\n"
     ]
    }
   ],
   "source": [
    "# Тест Манн-Уитни прокрашивается во всех случаях, после бактеного стал прокрашиваться чуть меньше (возможно из-за уменьшения выборки).\n",
    "_, pvalue_mw = stats.mannwhitneyu(df_ctr_tst.ctr, df_ctr_ctrl.ctr)\n",
    "_, pvalue_mw_backet = stats.mannwhitneyu(df_ctr_tst_backet, df_ctr_ctrl_backet)\n",
    "print(f'P-value теста Манна-Уитни для сырого ctr = {pvalue_mw}, для сглаженного ctr = {pvalue_mw_sm}, для бакетного ctr = {pvalue_mw_backet}')"
   ]
  },
  {
   "cell_type": "markdown",
   "metadata": {},
   "source": [
    "### Выводы"
   ]
  },
  {
   "cell_type": "markdown",
   "metadata": {},
   "source": [
    "- Большинство тестов показали, что выборки не одинаковые. Что в обшем-то очевидно и по взгляду на распределения, а также на квартили. \n",
    "- Эксперимент привел к тому, что для одних пользователей CTR стал сильно меньше (упал с примерно 20% до 10%), для других сильно вырос (до 30%). \n",
    "- Какие могли быть причины такого результата? Можно их разделить на 2 группы:\n",
    "    1) Поведение **пользователей**. Разные группы пользователей по-разному реагируют на сам алгоритм - то есть для одних групп он дает ценность, для других снижает. Например, вторым может не нравится, что им \"подсовывают\" не те посты, к которым они привыкли, им не нравятся изменения вообще и тд. \n",
    "    2) Сбой/ошибка в **алгоритме** - для одних он работал хорошо, для других работал криво. Например, он показывал им неправильные посты, которые нравились меньше. Это могут быть как неправильные настройки, так и просто ошибки в алгоритме. \n",
    "- В целом эксперимент имеет хороший потенциал, так как для тех, у кого CTR упал, даже если алгоритм нельзя подкрутить, его можно отключить."
   ]
  },
  {
   "cell_type": "markdown",
   "metadata": {},
   "source": [
    "### Рекомендации"
   ]
  },
  {
   "cell_type": "markdown",
   "metadata": {},
   "source": [
    "1) учитывая сильное падение CTR для примерно половины тестовых пользователей, лучше приостановить эксперимент от греха, пока юзеры не начали отваливаться из-за него. \n",
    "2) разобраться, в чем проблема. Начать с гипотезы про алгоритмы, так как он под рукой и его легче проанализировать. \n",
    "3) изучать 2 группы - у которых CTR вырос, и у которых упал. Как с помощью анализа имеющихся данных, так и (если останутся вопросы) с помощью опроса. Чем они отличаются? Есть ли какие-то базовые характеристики? Если ресурсы позволяют, то можно делать параллельно с п.2. Можно ли для них улушчить алгоритм, сделать его более user-friendly (если в этом дело)? \n",
    "4) после исправлений сделать повторный тест\n",
    "5) в случае успешности, раскатать на всех юзеров."
   ]
  },
  {
   "cell_type": "markdown",
   "metadata": {},
   "source": [
    "### Анализ 2х групп эксперимента"
   ]
  },
  {
   "cell_type": "code",
   "execution_count": 108,
   "metadata": {},
   "outputs": [],
   "source": [
    "q_ctr_expand = '''SELECT user_id, exp_group, countIf(action='like') likes, countIf(action='view') views, countIf(action='like')/countIf(action='view') ctr\n",
    ", country, os, source, age, gender\n",
    "from simulator_20220520.feed_actions \n",
    "group by user_id, exp_group, country, os, source, age, gender\n",
    "having toDate(time)>='2022-04-24' and toDate(time)<='2022-04-30' and exp_group = 2'''"
   ]
  },
  {
   "cell_type": "code",
   "execution_count": 109,
   "metadata": {},
   "outputs": [],
   "source": [
    "df_ctr_expand = pandahouse.read_clickhouse(query=q_ctr_expand, connection=connection)"
   ]
  },
  {
   "cell_type": "code",
   "execution_count": 110,
   "metadata": {},
   "outputs": [
    {
     "data": {
      "text/plain": [
       "<AxesSubplot:xlabel='ctr', ylabel='Count'>"
      ]
     },
     "execution_count": 110,
     "metadata": {},
     "output_type": "execute_result"
    },
    {
     "data": {
      "image/png": "[encoded data removed]",
      "text/plain": [
       "<Figure size 720x360 with 1 Axes>"
      ]
     },
     "metadata": {},
     "output_type": "display_data"
    }
   ],
   "source": [
    "# граница между низким и выоским ctr примерно на 0,2\n",
    "sns.histplot(data=df_ctr_expand, x='ctr')"
   ]
  },
  {
   "cell_type": "code",
   "execution_count": 111,
   "metadata": {},
   "outputs": [],
   "source": [
    "df_ctr_expand['2_groups'] = df_ctr_expand.ctr>0.2\n",
    "df_ctr_expand['2_groups'].replace({True:'high_ctr', False:'low_ctr'}, inplace=True)"
   ]
  },
  {
   "cell_type": "code",
   "execution_count": 112,
   "metadata": {},
   "outputs": [
    {
     "data": {
      "text/html": [
       "<div>\n",
       "<style scoped>\n",
       "    .dataframe tbody tr th:only-of-type {\n",
       "        vertical-align: middle;\n",
       "    }\n",
       "\n",
       "    .dataframe tbody tr th {\n",
       "        vertical-align: top;\n",
       "    }\n",
       "\n",
       "    .dataframe thead th {\n",
       "        text-align: right;\n",
       "    }\n",
       "</style>\n",
       "<table border=\"1\" class=\"dataframe\">\n",
       "  <thead>\n",
       "    <tr style=\"text-align: right;\">\n",
       "      <th>2_groups</th>\n",
       "      <th>high_ctr</th>\n",
       "      <th>low_ctr</th>\n",
       "    </tr>\n",
       "  </thead>\n",
       "  <tbody>\n",
       "    <tr>\n",
       "      <th>user_id</th>\n",
       "      <td>74395.694269</td>\n",
       "      <td>75742.651087</td>\n",
       "    </tr>\n",
       "    <tr>\n",
       "      <th>exp_group</th>\n",
       "      <td>2.000000</td>\n",
       "      <td>2.000000</td>\n",
       "    </tr>\n",
       "    <tr>\n",
       "      <th>likes</th>\n",
       "      <td>20.129061</td>\n",
       "      <td>7.458877</td>\n",
       "    </tr>\n",
       "    <tr>\n",
       "      <th>views</th>\n",
       "      <td>59.224278</td>\n",
       "      <td>71.707971</td>\n",
       "    </tr>\n",
       "    <tr>\n",
       "      <th>ctr</th>\n",
       "      <td>0.356670</td>\n",
       "      <td>0.100206</td>\n",
       "    </tr>\n",
       "    <tr>\n",
       "      <th>age</th>\n",
       "      <td>27.284973</td>\n",
       "      <td>27.196014</td>\n",
       "    </tr>\n",
       "    <tr>\n",
       "      <th>gender</th>\n",
       "      <td>0.548962</td>\n",
       "      <td>0.556884</td>\n",
       "    </tr>\n",
       "  </tbody>\n",
       "</table>\n",
       "</div>"
      ],
      "text/plain": [
       "2_groups       high_ctr       low_ctr\n",
       "user_id    74395.694269  75742.651087\n",
       "exp_group      2.000000      2.000000\n",
       "likes         20.129061      7.458877\n",
       "views         59.224278     71.707971\n",
       "ctr            0.356670      0.100206\n",
       "age           27.284973     27.196014\n",
       "gender         0.548962      0.556884"
      ]
     },
     "execution_count": 112,
     "metadata": {},
     "output_type": "execute_result"
    }
   ],
   "source": [
    "# Возраст, пол по 2-м группам не отличаются. \n",
    "# Юзеры группы с высоким CTR делают меньше просмотров.\n",
    "df_ctr_expand.groupby('2_groups').mean().T"
   ]
  },
  {
   "cell_type": "code",
   "execution_count": 113,
   "metadata": {},
   "outputs": [
    {
     "data": {
      "text/html": [
       "<div>\n",
       "<style scoped>\n",
       "    .dataframe tbody tr th:only-of-type {\n",
       "        vertical-align: middle;\n",
       "    }\n",
       "\n",
       "    .dataframe tbody tr th {\n",
       "        vertical-align: top;\n",
       "    }\n",
       "\n",
       "    .dataframe thead tr th {\n",
       "        text-align: left;\n",
       "    }\n",
       "\n",
       "    .dataframe thead tr:last-of-type th {\n",
       "        text-align: right;\n",
       "    }\n",
       "</style>\n",
       "<table border=\"1\" class=\"dataframe\">\n",
       "  <thead>\n",
       "    <tr>\n",
       "      <th></th>\n",
       "      <th colspan=\"3\" halign=\"left\">views</th>\n",
       "    </tr>\n",
       "    <tr>\n",
       "      <th>os</th>\n",
       "      <th>Android</th>\n",
       "      <th>iOS</th>\n",
       "      <th>All</th>\n",
       "    </tr>\n",
       "    <tr>\n",
       "      <th>2_groups</th>\n",
       "      <th></th>\n",
       "      <th></th>\n",
       "      <th></th>\n",
       "    </tr>\n",
       "  </thead>\n",
       "  <tbody>\n",
       "    <tr>\n",
       "      <th>high_ctr</th>\n",
       "      <td>2908</td>\n",
       "      <td>1524</td>\n",
       "      <td>4432</td>\n",
       "    </tr>\n",
       "    <tr>\n",
       "      <th>low_ctr</th>\n",
       "      <td>3501</td>\n",
       "      <td>2019</td>\n",
       "      <td>5520</td>\n",
       "    </tr>\n",
       "    <tr>\n",
       "      <th>All</th>\n",
       "      <td>6409</td>\n",
       "      <td>3543</td>\n",
       "      <td>9952</td>\n",
       "    </tr>\n",
       "  </tbody>\n",
       "</table>\n",
       "</div>"
      ],
      "text/plain": [
       "           views            \n",
       "os       Android   iOS   All\n",
       "2_groups                    \n",
       "high_ctr    2908  1524  4432\n",
       "low_ctr     3501  2019  5520\n",
       "All         6409  3543  9952"
      ]
     },
     "execution_count": 113,
     "metadata": {},
     "output_type": "execute_result"
    }
   ],
   "source": [
    "df_ctr_expand[['2_groups','views', 'os']].pivot_table(index='2_groups', columns='os', aggfunc='count', fill_value=0, margins=True)"
   ]
  },
  {
   "cell_type": "code",
   "execution_count": 114,
   "metadata": {},
   "outputs": [
    {
     "data": {
      "text/html": [
       "<div>\n",
       "<style scoped>\n",
       "    .dataframe tbody tr th:only-of-type {\n",
       "        vertical-align: middle;\n",
       "    }\n",
       "\n",
       "    .dataframe tbody tr th {\n",
       "        vertical-align: top;\n",
       "    }\n",
       "\n",
       "    .dataframe thead tr th {\n",
       "        text-align: left;\n",
       "    }\n",
       "\n",
       "    .dataframe thead tr:last-of-type th {\n",
       "        text-align: right;\n",
       "    }\n",
       "</style>\n",
       "<table border=\"1\" class=\"dataframe\">\n",
       "  <thead>\n",
       "    <tr>\n",
       "      <th></th>\n",
       "      <th colspan=\"3\" halign=\"left\">views</th>\n",
       "    </tr>\n",
       "    <tr>\n",
       "      <th>source</th>\n",
       "      <th>ads</th>\n",
       "      <th>organic</th>\n",
       "      <th>All</th>\n",
       "    </tr>\n",
       "    <tr>\n",
       "      <th>2_groups</th>\n",
       "      <th></th>\n",
       "      <th></th>\n",
       "      <th></th>\n",
       "    </tr>\n",
       "  </thead>\n",
       "  <tbody>\n",
       "    <tr>\n",
       "      <th>high_ctr</th>\n",
       "      <td>2106</td>\n",
       "      <td>2326</td>\n",
       "      <td>4432</td>\n",
       "    </tr>\n",
       "    <tr>\n",
       "      <th>low_ctr</th>\n",
       "      <td>2588</td>\n",
       "      <td>2932</td>\n",
       "      <td>5520</td>\n",
       "    </tr>\n",
       "    <tr>\n",
       "      <th>All</th>\n",
       "      <td>4694</td>\n",
       "      <td>5258</td>\n",
       "      <td>9952</td>\n",
       "    </tr>\n",
       "  </tbody>\n",
       "</table>\n",
       "</div>"
      ],
      "text/plain": [
       "         views              \n",
       "source     ads organic   All\n",
       "2_groups                    \n",
       "high_ctr  2106    2326  4432\n",
       "low_ctr   2588    2932  5520\n",
       "All       4694    5258  9952"
      ]
     },
     "execution_count": 114,
     "metadata": {},
     "output_type": "execute_result"
    }
   ],
   "source": [
    "df_ctr_expand[['2_groups','views', 'source']].pivot_table(index='2_groups', columns='source', aggfunc='count', fill_value=0, margins=True)"
   ]
  },
  {
   "cell_type": "code",
   "execution_count": 115,
   "metadata": {},
   "outputs": [
    {
     "data": {
      "text/html": [
       "<div>\n",
       "<style scoped>\n",
       "    .dataframe tbody tr th:only-of-type {\n",
       "        vertical-align: middle;\n",
       "    }\n",
       "\n",
       "    .dataframe tbody tr th {\n",
       "        vertical-align: top;\n",
       "    }\n",
       "\n",
       "    .dataframe thead th {\n",
       "        text-align: right;\n",
       "    }\n",
       "</style>\n",
       "<table border=\"1\" class=\"dataframe\">\n",
       "  <thead>\n",
       "    <tr style=\"text-align: right;\">\n",
       "      <th></th>\n",
       "      <th>2_groups</th>\n",
       "      <th>high_ctr</th>\n",
       "      <th>low_ctr</th>\n",
       "      <th>All</th>\n",
       "    </tr>\n",
       "    <tr>\n",
       "      <th></th>\n",
       "      <th>country</th>\n",
       "      <th></th>\n",
       "      <th></th>\n",
       "      <th></th>\n",
       "    </tr>\n",
       "  </thead>\n",
       "  <tbody>\n",
       "    <tr>\n",
       "      <th rowspan=\"12\" valign=\"top\">views</th>\n",
       "      <th>Azerbaijan</th>\n",
       "      <td>50</td>\n",
       "      <td>60</td>\n",
       "      <td>110</td>\n",
       "    </tr>\n",
       "    <tr>\n",
       "      <th>Belarus</th>\n",
       "      <td>78</td>\n",
       "      <td>126</td>\n",
       "      <td>204</td>\n",
       "    </tr>\n",
       "    <tr>\n",
       "      <th>Cyprus</th>\n",
       "      <td>7</td>\n",
       "      <td>5</td>\n",
       "      <td>12</td>\n",
       "    </tr>\n",
       "    <tr>\n",
       "      <th>Estonia</th>\n",
       "      <td>4</td>\n",
       "      <td>4</td>\n",
       "      <td>8</td>\n",
       "    </tr>\n",
       "    <tr>\n",
       "      <th>Finland</th>\n",
       "      <td>43</td>\n",
       "      <td>65</td>\n",
       "      <td>108</td>\n",
       "    </tr>\n",
       "    <tr>\n",
       "      <th>Kazakhstan</th>\n",
       "      <td>84</td>\n",
       "      <td>112</td>\n",
       "      <td>196</td>\n",
       "    </tr>\n",
       "    <tr>\n",
       "      <th>Latvia</th>\n",
       "      <td>2</td>\n",
       "      <td>5</td>\n",
       "      <td>7</td>\n",
       "    </tr>\n",
       "    <tr>\n",
       "      <th>Russia</th>\n",
       "      <td>3918</td>\n",
       "      <td>4813</td>\n",
       "      <td>8731</td>\n",
       "    </tr>\n",
       "    <tr>\n",
       "      <th>Switzerland</th>\n",
       "      <td>3</td>\n",
       "      <td>7</td>\n",
       "      <td>10</td>\n",
       "    </tr>\n",
       "    <tr>\n",
       "      <th>Turkey</th>\n",
       "      <td>35</td>\n",
       "      <td>47</td>\n",
       "      <td>82</td>\n",
       "    </tr>\n",
       "    <tr>\n",
       "      <th>Ukraine</th>\n",
       "      <td>208</td>\n",
       "      <td>276</td>\n",
       "      <td>484</td>\n",
       "    </tr>\n",
       "    <tr>\n",
       "      <th>All</th>\n",
       "      <td>4432</td>\n",
       "      <td>5520</td>\n",
       "      <td>9952</td>\n",
       "    </tr>\n",
       "  </tbody>\n",
       "</table>\n",
       "</div>"
      ],
      "text/plain": [
       "2_groups           high_ctr  low_ctr   All\n",
       "      country                             \n",
       "views Azerbaijan         50       60   110\n",
       "      Belarus            78      126   204\n",
       "      Cyprus              7        5    12\n",
       "      Estonia             4        4     8\n",
       "      Finland            43       65   108\n",
       "      Kazakhstan         84      112   196\n",
       "      Latvia              2        5     7\n",
       "      Russia           3918     4813  8731\n",
       "      Switzerland         3        7    10\n",
       "      Turkey             35       47    82\n",
       "      Ukraine           208      276   484\n",
       "      All              4432     5520  9952"
      ]
     },
     "execution_count": 115,
     "metadata": {},
     "output_type": "execute_result"
    }
   ],
   "source": [
    "df_ctr_expand[['2_groups','views', 'country']].pivot_table(index='2_groups', columns='country', aggfunc='count', fill_value=0, margins=True).T"
   ]
  },
  {
   "cell_type": "markdown",
   "metadata": {},
   "source": [
    "**Вывод 3**: Особых отличий между группами на предварительном анализе не выявлено. Единственное отличие - у группы с низкий CTR несколько больше (!) просмотров. "
   ]
  }
 ],
 "metadata": {
  "kernelspec": {
   "display_name": "Python 3.9.7 ('base')",
   "language": "python",
   "name": "python3"
  },
  "language_info": {
   "codemirror_mode": {
    "name": "ipython",
    "version": 3
   },
   "file_extension": ".py",
   "mimetype": "text/x-python",
   "name": "python",
   "nbconvert_exporter": "python",
   "pygments_lexer": "ipython3",
   "version": "3.9.7"
  },
  "orig_nbformat": 4,
  "vscode": {
   "interpreter": {
    "hash": "f04e9d9503fc02916e732e0ca15418c91d0dcb99725da04f8a65fab59f1f0d78"
   }
  }
 },
 "nbformat": 4,
 "nbformat_minor": 2
}
